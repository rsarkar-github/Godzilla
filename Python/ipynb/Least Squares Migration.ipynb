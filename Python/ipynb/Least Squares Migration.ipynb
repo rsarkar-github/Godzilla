{
 "cells": [
  {
   "cell_type": "markdown",
   "metadata": {},
   "source": [
    "## Set the directory of the Python scripts"
   ]
  },
  {
   "cell_type": "code",
   "execution_count": 1,
   "metadata": {},
   "outputs": [],
   "source": [
    "import sys\n",
    "sys.path.append(\"G:\\\\Research\\\\Freq-Domain\\\\Godzilla\\\\Python\")"
   ]
  },
  {
   "cell_type": "markdown",
   "metadata": {},
   "source": [
    "## Import all the needed packages"
   ]
  },
  {
   "cell_type": "code",
   "execution_count": 3,
   "metadata": {},
   "outputs": [],
   "source": [
    "from Common import*\n",
    "from Velocity import Velocity2D\n",
    "from CreateGeometry import CreateGeometry2D\n",
    "from CreateMatrixHelmholtz import CreateMatrixHelmholtz2D\n",
    "from TfwiLeastSquares import TfwiLeastSquares2D\n",
    "from scipy.sparse.linalg import splu\n",
    "import numpy as np\n",
    "import scipy as sp\n",
    "import time\n",
    "import matplotlib.pyplot as plt"
   ]
  },
  {
   "cell_type": "markdown",
   "metadata": {},
   "source": [
    "## Define experiment geometry, and frequency range of all simulations"
   ]
  },
  {
   "cell_type": "code",
   "execution_count": 4,
   "metadata": {},
   "outputs": [],
   "source": [
    "# Define frequency parameters (in Hertz)\n",
    "freq_peak_ricker = 10\n",
    "freq_max = 20\n",
    "omega_max = 2 * Common.pi * freq_max\n",
    "dt = 0.5 / freq_max\n",
    "nt = 100\n",
    "domega = (2 * Common.pi) / (nt * dt)\n",
    "delay = 0.1\n",
    "\n",
    "# Create geometry object\n",
    "vmin = 1.5      # km/s\n",
    "vmax = 2.5      # km/s\n",
    "xdim = 0.75     # km\n",
    "zdim = 0.5      # km\n",
    "geom2d = CreateGeometry2D(\n",
    "    xdim=xdim,\n",
    "    zdim=zdim,\n",
    "    vmin=vmin,\n",
    "    vmax=vmax,\n",
    "    omega_max=omega_max,\n",
    "    omega_min=domega\n",
    ")"
   ]
  },
  {
   "cell_type": "markdown",
   "metadata": {},
   "source": [
    "## Create initial and final velocity models"
   ]
  },
  {
   "cell_type": "code",
   "execution_count": 5,
   "metadata": {},
   "outputs": [],
   "source": [
    "# Create an initial velocity model\n",
    "vel_initial = Velocity2D(geometry2d=geom2d)\n",
    "ngridpoints_x = geom2d.gridpointsX\n",
    "ngridpoints_z = geom2d.gridpointsZ\n",
    "\n",
    "# Create a true velocity model (Gaussian perturbation)\n",
    "vel_true = Velocity2D(geometry2d=geom2d)\n",
    "\n",
    "# Modify vel_true\n",
    "vel_true_vals = vel_true.vel\n",
    "nz = int(0.5 * vel_true.geometry2D.ncellsZ + vel_true.geometry2D.ncellsZ_pad)\n",
    "vel_true_vals[:,nz] = 0.25 * vmin + 0.75 * vmax\n",
    "vel_true.vel = vel_true_vals"
   ]
  },
  {
   "cell_type": "markdown",
   "metadata": {},
   "source": [
    "Plot the initial and final velocity models."
   ]
  },
  {
   "cell_type": "code",
   "execution_count": 7,
   "metadata": {},
   "outputs": [
    {
     "data": {
      "image/png": "[encoded data removed]",
      "text/plain": [
       "<Figure size 432x288 with 2 Axes>"
      ]
     },
     "metadata": {
      "needs_background": "light"
     },
     "output_type": "display_data"
    },
    {
     "data": {
      "image/png": "[encoded data removed]",
      "text/plain": [
       "<Figure size 432x288 with 2 Axes>"
      ]
     },
     "metadata": {
      "needs_background": "light"
     },
     "output_type": "display_data"
    }
   ],
   "source": [
    "%matplotlib inline\n",
    "# Plot models\n",
    "vel_initial.plot(title=\"Initial velocity\", pad=False, vmin=vmin, vmax=vmax)\n",
    "vel_true.plot(title=\"True velocity\", pad=False, vmin=vmin, vmax=vmax)"
   ]
  },
  {
   "cell_type": "code",
   "execution_count": null,
   "metadata": {},
   "outputs": [],
   "source": []
  }
 ],
 "metadata": {
  "kernelspec": {
   "display_name": "Python 3",
   "language": "python",
   "name": "python3"
  },
  "language_info": {
   "codemirror_mode": {
    "name": "ipython",
    "version": 3
   },
   "file_extension": ".py",
   "mimetype": "text/x-python",
   "name": "python",
   "nbconvert_exporter": "python",
   "pygments_lexer": "ipython3",
   "version": "3.6.6"
  }
 },
 "nbformat": 4,
 "nbformat_minor": 2
}
